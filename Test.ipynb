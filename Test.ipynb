{
 "cells": [
  {
   "cell_type": "markdown",
   "id": "1d1c70ef-cadd-4814-bb29-0eb1518bd2df",
   "metadata": {},
   "source": [
    "# CMPT 419 Term Project "
   ]
  },
  {
   "cell_type": "code",
   "execution_count": null,
   "id": "46c222a2-4b61-4444-9712-03c12bafcbd0",
   "metadata": {},
   "outputs": [],
   "source": [
    "import sklearn as sk\n",
    "import numpy as np\n",
    "import matplotlib as mpl\n",
    "import pandas as pd \n",
    "import tensorflow as tf \n",
    "\n"
   ]
  },
  {
   "cell_type": "code",
   "execution_count": null,
   "id": "b3603602-e896-40c1-be2f-f14ad8925425",
   "metadata": {},
   "outputs": [],
   "source": []
  }
 ],
 "metadata": {
  "kernelspec": {
   "display_name": "Python 3 (ipykernel)",
   "language": "python",
   "name": "python3"
  },
  "language_info": {
   "codemirror_mode": {
    "name": "ipython",
    "version": 3
   },
   "file_extension": ".py",
   "mimetype": "text/x-python",
   "name": "python",
   "nbconvert_exporter": "python",
   "pygments_lexer": "ipython3",
   "version": "3.10.13"
  }
 },
 "nbformat": 4,
 "nbformat_minor": 5
}
