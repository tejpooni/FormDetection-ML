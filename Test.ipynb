{
 "cells": [
  {
   "cell_type": "markdown",
   "id": "1d1c70ef-cadd-4814-bb29-0eb1518bd2df",
   "metadata": {},
   "source": [
    "# CMPT 419 Form Detection Project \n",
    "- Tej Pooni, Rajbir Bains, Dylan D'Mello, Sumrit Sanghera "
   ]
  },
  {
   "cell_type": "code",
   "execution_count": 3,
   "id": "46c222a2-4b61-4444-9712-03c12bafcbd0",
   "metadata": {},
   "outputs": [],
   "source": [
    "import os\n",
    "# Suppress warning messages\n",
    "os.environ['TF_CPP_MIN_LOG_LEVEL'] = '2'\n",
    "\n",
    "import sklearn as sk\n",
    "import numpy as np\n",
    "import matplotlib as mpl\n",
    "import pandas as pd \n",
    "import tensorflow as tf \n",
    " "
   ]
  },
  {
   "cell_type": "code",
   "execution_count": 4,
   "id": "b3603602-e896-40c1-be2f-f14ad8925425",
   "metadata": {},
   "outputs": [],
   "source": [
    "# Loading Calisthenics Data\n",
    "\n",
    "distances_3d = pd.read_csv('calisthenics_data/3d_distances.csv')\n",
    "angles = pd.read_csv('calisthenics_data/angles.csv')\n",
    "labels = pd.read_csv('calisthenics_data/labels.csv')\n",
    "landmarks = pd.read_csv('calisthenics_data/landmarks.csv')\n",
    "xyz_distances = pd.read_csv('calisthenics_data/xyz_distances.csv')"
   ]
  },
  {
   "cell_type": "code",
   "execution_count": null,
   "id": "cab84cb9",
   "metadata": {},
   "outputs": [],
   "source": []
  }
 ],
 "metadata": {
  "kernelspec": {
   "display_name": "Python 3",
   "language": "python",
   "name": "python3"
  },
  "language_info": {
   "codemirror_mode": {
    "name": "ipython",
    "version": 3
   },
   "file_extension": ".py",
   "mimetype": "text/x-python",
   "name": "python",
   "nbconvert_exporter": "python",
   "pygments_lexer": "ipython3",
   "version": "3.12.1"
  },
  "vscode": {
   "interpreter": {
    "hash": "e6af3c727c18f2fb2126836482f1ff0fe0cb437b05418d81b3c439f5137f8aa6"
   }
  }
 },
 "nbformat": 4,
 "nbformat_minor": 5
}
