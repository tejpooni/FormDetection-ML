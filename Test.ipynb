{
 "cells": [
  {
   "cell_type": "markdown",
   "id": "1d1c70ef-cadd-4814-bb29-0eb1518bd2df",
   "metadata": {},
   "source": [
    "# CMPT 419 Term Project "
   ]
  },
  {
   "cell_type": "code",
   "execution_count": 2,
   "id": "46c222a2-4b61-4444-9712-03c12bafcbd0",
   "metadata": {},
   "outputs": [
    {
     "name": "stderr",
     "output_type": "stream",
     "text": [
      "2024-03-25 19:21:03.077452: I tensorflow/core/platform/cpu_feature_guard.cc:182] This TensorFlow binary is optimized to use available CPU instructions in performance-critical operations.\n",
      "To enable the following instructions: AVX2 FMA, in other operations, rebuild TensorFlow with the appropriate compiler flags.\n"
     ]
    }
   ],
   "source": [
    "import sklearn as sk\n",
    "import numpy as np\n",
    "import matplotlib as mpl\n",
    "import pandas as pd \n",
    "import tensorflow as tf "
   ]
  },
  {
   "cell_type": "code",
   "execution_count": null,
   "id": "b3603602-e896-40c1-be2f-f14ad8925425",
   "metadata": {},
   "outputs": [],
   "source": [
    "#Loading Calisthenics Data\n",
    "3d_distances = pd.read_csv('3d_distances.csv')\n"
   ]
  }
 ],
 "metadata": {
  "kernelspec": {
   "display_name": "Python 3 (ipykernel)",
   "language": "python",
   "name": "python3"
  },
  "language_info": {
   "codemirror_mode": {
    "name": "ipython",
    "version": 3
   },
   "file_extension": ".py",
   "mimetype": "text/x-python",
   "name": "python",
   "nbconvert_exporter": "python",
   "pygments_lexer": "ipython3",
   "version": "3.10.13"
  }
 },
 "nbformat": 4,
 "nbformat_minor": 5
}
