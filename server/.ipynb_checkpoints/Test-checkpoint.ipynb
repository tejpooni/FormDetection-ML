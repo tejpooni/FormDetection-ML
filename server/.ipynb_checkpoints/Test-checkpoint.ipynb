{
 "cells": [
  {
   "cell_type": "markdown",
   "id": "1d1c70ef-cadd-4814-bb29-0eb1518bd2df",
   "metadata": {},
   "source": [
    "# CMPT 419 Term Project "
   ]
  },
  {
   "cell_type": "code",
   "execution_count": 1,
   "id": "46c222a2-4b61-4444-9712-03c12bafcbd0",
   "metadata": {},
   "outputs": [
    {
     "ename": "ModuleNotFoundError",
     "evalue": "No module named 'sklearn'",
     "output_type": "error",
     "traceback": [
      "\u001b[0;31m---------------------------------------------------------------------------\u001b[0m",
      "\u001b[0;31mModuleNotFoundError\u001b[0m                       Traceback (most recent call last)",
      "Cell \u001b[0;32mIn[1], line 1\u001b[0m\n\u001b[0;32m----> 1\u001b[0m \u001b[39mimport\u001b[39;00m \u001b[39msklearn\u001b[39;00m \u001b[39mas\u001b[39;00m \u001b[39msk\u001b[39;00m\n\u001b[1;32m      2\u001b[0m \u001b[39mimport\u001b[39;00m \u001b[39mnumpy\u001b[39;00m \u001b[39mas\u001b[39;00m \u001b[39mnp\u001b[39;00m\n\u001b[1;32m      3\u001b[0m \u001b[39mimport\u001b[39;00m \u001b[39mmatplotlib\u001b[39;00m \u001b[39mas\u001b[39;00m \u001b[39mmpl\u001b[39;00m\n",
      "\u001b[0;31mModuleNotFoundError\u001b[0m: No module named 'sklearn'"
     ]
    }
   ],
   "source": [
    "import sklearn as sk\n",
    "import numpy as np\n",
    "import matplotlib as mpl\n",
    "import pandas as pd \n",
    "import tensorflow as tf "
   ]
  },
  {
   "cell_type": "code",
   "execution_count": 3,
   "id": "b3603602-e896-40c1-be2f-f14ad8925425",
   "metadata": {},
   "outputs": [],
   "source": [
    "#Loading Calisthenics Data\n",
    "\n",
    "distances_3d = pd.read_csv('calisthenics_data/3d_distances.csv')\n",
    "angles = pd.read_csv('calisthenics_data/angles.csv')\n",
    "labels = pd.read_csv('calisthenics_data/labels.csv')\n",
    "landmarks = pd.read_csv('calisthenics_data/landmarks.csv')\n",
    "xyz_distances = pd.read_csv('calisthenics_data/xyz_distances.csv')"
   ]
  },
  {
   "cell_type": "code",
   "execution_count": null,
   "id": "1f18fa6d",
   "metadata": {},
   "outputs": [],
   "source": []
  }
 ],
 "metadata": {
  "kernelspec": {
   "display_name": "Python 3 (ipykernel)",
   "language": "python",
   "name": "python3"
  },
  "language_info": {
   "codemirror_mode": {
    "name": "ipython",
    "version": 3
   },
   "file_extension": ".py",
   "mimetype": "text/x-python",
   "name": "python",
   "nbconvert_exporter": "python",
   "pygments_lexer": "ipython3",
   "version": "3.9.9"
  },
  "vscode": {
   "interpreter": {
    "hash": "6f6066540e6ec1ebd5a911ebdb1c9d704a4a840902090f1235842eb220ba3e91"
   }
  }
 },
 "nbformat": 4,
 "nbformat_minor": 5
}
